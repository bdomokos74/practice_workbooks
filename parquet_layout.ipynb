{
  "cells": [
    {
      "cell_type": "markdown",
      "metadata": {},
      "source": [
        "### Calculate parquet layout\n",
        "\n",
        "10 pack, 1.8 $m^2$ per pack, 4 piece per pack -> 40 piece"
      ]
    },
    {
      "cell_type": "code",
      "execution_count": 999,
      "metadata": {
        "trusted": true
      },
      "outputs": [],
      "source": [
        "from dataclasses import dataclass\n",
        "import matplotlib.pyplot as plt\n",
        "import matplotlib.patches as patches\n",
        "from pylab import rcParams\n",
        "rcParams['figure.figsize'] = 15, 8"
      ]
    },
    {
      "cell_type": "code",
      "execution_count": 1000,
      "metadata": {
        "trusted": true
      },
      "outputs": [],
      "source": [
        "# Input:\n",
        "\n",
        "\n",
        "firstPiece = 102.25 # cut from first piece\n",
        "minWidth = 20 # minimum size of piece, if smaller, throw out"
      ]
    },
    {
      "cell_type": "code",
      "execution_count": 1001,
      "metadata": {
        "trusted": true
      },
      "outputs": [],
      "source": [
        "# Room dimensions\n",
        "@dataclass(frozen=True)\n",
        "class Room:\n",
        "    x = 389\n",
        "    y = 376\n",
        "    x1 =66\n",
        "    y1 = 168.5\n",
        "    y2 = 89.5\n",
        "    y3 = 118\n",
        "room = Room()"
      ]
    },
    {
      "cell_type": "code",
      "execution_count": 1002,
      "metadata": {
        "trusted": true
      },
      "outputs": [],
      "source": [
        "# Parquet dimensions\n",
        "\n",
        "fullWidth = 184.5\n",
        "fullHeight = 24.5\n",
        "\n",
        "@dataclass(frozen=True)\n",
        "class Tile:\n",
        "    w: float = fullWidth\n",
        "    h: float = fullHeight\n",
        "\n",
        "    def area(self):\n",
        "        return self.h*self.w\n",
        "\n",
        "    def isCut(self):\n",
        "        return self.w<fullWidth;\n",
        "    def isUncut(self):\n",
        "        return not self.isCut()\n"
      ]
    },
    {
      "cell_type": "code",
      "execution_count": 1003,
      "metadata": {},
      "outputs": [],
      "source": [
        "class Layout:\n",
        "    numPacks = 10\n",
        "    tilesInPack = 4\n",
        "    totalTileNum = numPacks*tilesInPack\n",
        "    \n",
        "    def __init__(self) -> None:\n",
        "        self.numTiles: self.totalTileNum\n",
        "        self.leftPiece: list[Tile] = []\n",
        "        self.rightPiece: list[Tile] =[]\n",
        "        self.room = Room()\n",
        "        self.layout: list[list[Tile]] = []\n",
        "        self.currRow = -1\n",
        "\n",
        "    def createPatch(self, tile: Tile, x0: float, y0: float):\n",
        "        kwargs = {}\n",
        "        if tile.isUncut():\n",
        "            kwargs['hatch'] = '/'\n",
        "        if tile.w < minWidth:\n",
        "            kwargs['hatch'] = '|'\n",
        "            kwargs['color'] = 'r'\n",
        "        kwargs['fill'] = False\n",
        "        return [[(x0, y0-tile.h), tile.w, tile.h], kwargs]\n",
        "\n",
        "    def transform(self):\n",
        "        result = []\n",
        "        y0 = room.y\n",
        "        x0 = 0\n",
        "        for row in self.layout:\n",
        "            for tile in row:\n",
        "                result.append(self.createPatch(tile, x0, y0))\n",
        "                x0 += tile.w\n",
        "            y0 -= fullHeight\n",
        "            x0 = 0\n",
        "        return result\n",
        "        \n",
        "    def cutLeft(self, w: float):\n",
        "        remain = Tile(w=fullWidth-w)\n",
        "        result = Tile(w=w)\n",
        "        self.rightPiece.append(remain)\n",
        "        self.layout[self.currRow].insert(0, result)\n",
        "        self.totalTileNum -= 1\n",
        "\n",
        "    def cutRight(self, w: float):\n",
        "        remain = Tile(w=fullWidth-w)\n",
        "        result = Tile(w=w)\n",
        "        self.leftPiece.append(remain)\n",
        "        self.layout[self.currRow].insert(0, result)\n",
        "        self.totalTileNum -= 1\n",
        "\n",
        "    def newRow(self):\n",
        "        self.currRow += 1\n",
        "        self.layout.append([])\n",
        "\n",
        "    def addTile(self, tile = Tile()):\n",
        "        self.layout[self.currRow].insert(0, tile)\n",
        "        if tile.isUncut():\n",
        "            self.totalTileNum -= 1\n",
        "\n",
        "    def rowWidth(self, row):\n",
        "        w = room.x\n",
        "        if (row+1)*fullHeight > room.y3 and (row)*fullHeight < room.y3 + room.y2:\n",
        "            w = room.x+room.x1\n",
        "        return w\n",
        "\n",
        "    def rowRemain(self):\n",
        "        #print(f'rowWidth: rownum={self.currRow}, {(self.currRow+1)*fullHeight}, {room.y1}, {room.y1+room.y2}')\n",
        "        return self.rowWidth(self.currRow) - sum([x.w for x in self.layout[self.currRow]])\n",
        "\n",
        "layout = Layout()"
      ]
    },
    {
      "cell_type": "code",
      "execution_count": 1004,
      "metadata": {},
      "outputs": [
        {
          "name": "stdout",
          "output_type": "stream",
          "text": [
            "half remaining: 102.25\n",
            "roomArea=15.2171\n",
            "tileArea*numInPack=18081.0, packArea/tileArea=3.982080637132902\n",
            "5*h=122.5 7*h=171.5\n"
          ]
        }
      ],
      "source": [
        "tmpTile = Tile()\n",
        "tmpRoom = Room()\n",
        "halfRemain = (tmpRoom.x-tmpTile.w)/2.0\n",
        "print(f'half remaining: {halfRemain}')\n",
        "print(f'roomArea={(tmpRoom.x*tmpRoom.y+tmpRoom.x1*tmpRoom.y2)/10000}')\n",
        "\n",
        "packArea = 1.8*10000\n",
        "numInPack = 4\n",
        "tileArea = Tile().area()\n",
        "print(f'tileArea*numInPack={tileArea*numInPack}, packArea/tileArea={packArea/tileArea}')\n",
        "print(f'5*h={5*tmpTile.h} 7*h={7*tmpTile.h}')"
      ]
    },
    {
      "cell_type": "code",
      "execution_count": 1005,
      "metadata": {},
      "outputs": [],
      "source": [
        "def plotLayout():\n",
        "    fig, ax = plt.subplots()\n",
        "    tiling = layout.transform()\n",
        "    for p in tiling:\n",
        "        ax.add_patch(patches.Rectangle(*p[0], **p[1]))\n",
        "        if not p[1]['fill']:\n",
        "            ax.text(p[0][0][0], p[0][0][1], str(p[0][1]))\n",
        "    plt.plot([0, room.x, room.x, room.x+room.x1, room.x+room.x1, room.x, room.x, 0, 0], [0, 0, room.y1, room.y1, room.y1+room.y2, \n",
        "    room.y1+room.y2, room.y1+room.y2+room.y3,room.y1+room.y2+room.y3, 0], 'r')\n",
        "    plt.show()"
      ]
    },
    {
      "cell_type": "code",
      "execution_count": 1017,
      "metadata": {
        "trusted": true
      },
      "outputs": [
        {
          "name": "stdout",
          "output_type": "stream",
          "text": [
            "leftPieces: [Tile(w=82.25, h=24.5), Tile(w=144.5, h=24.5)]\n",
            "rightPieces: [Tile(w=12.5, h=24.5), Tile(w=54.75, h=24.5), Tile(w=58.5, h=24.5), Tile(w=124.5, h=24.5)]\n",
            "remaining: 4\n",
            "lastRow: 8.5\n"
          ]
        },
        {
          "data": {
            "image/png": "[encoded data removed]",
            "text/plain": [
              "<Figure size 1080x576 with 1 Axes>"
            ]
          },
          "metadata": {
            "needs_background": "light"
          },
          "output_type": "display_data"
        }
      ],
      "source": [
        "layout = Layout()\n",
        "\n",
        "layout.newRow()\n",
        "layout.cutRight(halfRemain)\n",
        "layout.addTile()\n",
        "layout.cutLeft(layout.rowRemain())\n",
        "\n",
        "layout.newRow()\n",
        "layout.addTile()\n",
        "layout.addTile()\n",
        "layout.cutLeft(layout.rowRemain())\n",
        "\n",
        "layout.newRow()\n",
        "layout.addTile(layout.rightPiece.pop(0))\n",
        "layout.addTile()\n",
        "layout.cutLeft(layout.rowRemain())\n",
        "\n",
        "layout.newRow()\n",
        "layout.addTile(layout.rightPiece.pop(0))\n",
        "layout.addTile()\n",
        "layout.cutRight(layout.rowRemain())\n",
        "\n",
        "layout.newRow()\n",
        "layout.addTile()\n",
        "layout.addTile()\n",
        "layout.cutLeft(layout.rowRemain())\n",
        "\n",
        "layout.newRow()\n",
        "layout.addTile(layout.rightPiece.pop(0))\n",
        "layout.addTile()\n",
        "layout.addTile()\n",
        "layout.cutLeft(layout.rowRemain())\n",
        "\n",
        "layout.newRow()\n",
        "layout.addTile(layout.rightPiece.pop(1))\n",
        "layout.addTile()\n",
        "layout.cutLeft(layout.rowRemain())\n",
        "\n",
        "layout.newRow()\n",
        "layout.addTile(layout.rightPiece.pop(0))\n",
        "layout.addTile()\n",
        "layout.cutLeft(layout.rowRemain())\n",
        "\n",
        "layout.newRow()\n",
        "layout.addTile()\n",
        "layout.addTile()\n",
        "layout.cutLeft(layout.rowRemain())\n",
        "\n",
        "layout.newRow()\n",
        "layout.addTile(layout.rightPiece.pop(0))\n",
        "layout.addTile()\n",
        "layout.cutLeft(layout.rowRemain())\n",
        "\n",
        "layout.newRow()\n",
        "layout.addTile()\n",
        "layout.addTile()\n",
        "layout.cutLeft(layout.rowRemain())\n",
        "\n",
        "layout.newRow()\n",
        "layout.addTile(layout.rightPiece.pop(1))\n",
        "layout.addTile()\n",
        "layout.cutLeft(layout.rowRemain())\n",
        "\n",
        "layout.newRow()\n",
        "layout.addTile(layout.rightPiece.pop(2))\n",
        "layout.addTile()\n",
        "layout.cutLeft(layout.rowRemain())\n",
        "\n",
        "layout.newRow()\n",
        "layout.addTile(layout.rightPiece.pop(2))\n",
        "layout.addTile()\n",
        "layout.cutLeft(layout.rowRemain())\n",
        "\n",
        "layout.newRow()\n",
        "layout.addTile(layout.rightPiece.pop(2))\n",
        "layout.addTile()\n",
        "layout.cutLeft(layout.rowRemain())\n",
        "\n",
        "\n",
        "print(f'leftPieces: {layout.leftPiece}')\n",
        "print(f'rightPieces: {layout.rightPiece}')\n",
        "print(f'remaining: {layout.totalTileNum}')\n",
        "print(f'lastRow: {room.y1+room.y2+room.y3-15*fullHeight}')\n",
        "plotLayout()\n"
      ]
    },
    {
      "cell_type": "code",
      "execution_count": null,
      "metadata": {},
      "outputs": [],
      "source": []
    },
    {
      "cell_type": "code",
      "execution_count": null,
      "metadata": {},
      "outputs": [],
      "source": []
    },
    {
      "cell_type": "code",
      "execution_count": null,
      "metadata": {
        "trusted": true
      },
      "outputs": [],
      "source": [
        "\n"
      ]
    },
    {
      "cell_type": "code",
      "execution_count": null,
      "metadata": {
        "trusted": true
      },
      "outputs": [],
      "source": []
    }
  ],
  "metadata": {
    "kernelspec": {
      "display_name": "Python 3.10.5 64-bit",
      "language": "python",
      "name": "python3"
    },
    "language_info": {
      "codemirror_mode": {
        "name": "ipython",
        "version": 3
      },
      "file_extension": ".py",
      "mimetype": "text/x-python",
      "name": "python",
      "nbconvert_exporter": "python",
      "pygments_lexer": "ipython3",
      "version": "3.10.5"
    },
    "vscode": {
      "interpreter": {
        "hash": "aee8b7b246df8f9039afb4144a1f6fd8d2ca17a180786b69acc140d282b71a49"
      }
    }
  },
  "nbformat": 4,
  "nbformat_minor": 4
}
