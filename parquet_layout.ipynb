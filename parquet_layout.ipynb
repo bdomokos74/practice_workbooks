{
  "cells": [
    {
      "cell_type": "markdown",
      "metadata": {},
      "source": [
        "### Calculate parquet layout\n",
        "\n",
        "10 pack, 1.8 $m^2$ per pack, 4 piece per pack -> 40 piece"
      ]
    },
    {
      "cell_type": "code",
      "execution_count": 1,
      "metadata": {
        "trusted": true
      },
      "outputs": [],
      "source": [
        "import matplotlib.pyplot as plt\n",
        "from pylab import rcParams\n",
        "rcParams['figure.figsize'] = 15, 8"
      ]
    },
    {
      "cell_type": "code",
      "execution_count": 2,
      "metadata": {
        "trusted": true
      },
      "outputs": [],
      "source": [
        "# Input:\n",
        "firstCut = 30 # cut from first piece\n",
        "minWidth = 30 # minimum size of piece, if smaller, throw out"
      ]
    },
    {
      "cell_type": "code",
      "execution_count": 3,
      "metadata": {
        "trusted": true
      },
      "outputs": [],
      "source": [
        "# Room dimensions\n",
        "x = 389\n",
        "y = 376\n",
        "x1 =66\n",
        "y1 = 118\n",
        "y2 = 89.5\n",
        "y3 = 168.5"
      ]
    },
    {
      "cell_type": "code",
      "execution_count": 4,
      "metadata": {
        "trusted": true
      },
      "outputs": [
        {
          "name": "stdout",
          "output_type": "stream",
          "text": [
            "3.982080637132902\n"
          ]
        }
      ],
      "source": [
        "# Parquet dimensions\n",
        "pHeight = 24.5\n",
        "pWidth = 184.5\n",
        "parquetArea = pHeight*pWidth\n",
        "packArea = 1.8*10000\n",
        "numInPack = packArea/parquetArea\n",
        "print(numInPack)"
      ]
    },
    {
      "cell_type": "code",
      "execution_count": 5,
      "metadata": {
        "trusted": true
      },
      "outputs": [
        {
          "name": "stdout",
          "output_type": "stream",
          "text": [
            "152171.0\n"
          ]
        }
      ],
      "source": [
        "area = x*y+x1*y2\n",
        "print(area)"
      ]
    },
    {
      "cell_type": "code",
      "execution_count": 6,
      "metadata": {
        "trusted": true
      },
      "outputs": [],
      "source": [
        "def createParquet(x0, y0, w=pWidth):\n",
        "    parquet= [[x0, y0], [x0+w, y0], [x0+w, y0-pHeight], [x0, y0-pHeight], [x0, y0]]\n",
        "    parquetCoords = [[p[0] for p in parquet], [p[1] for p in parquet]]\n",
        "    return parquetCoords"
      ]
    },
    {
      "cell_type": "code",
      "execution_count": 7,
      "metadata": {
        "trusted": true
      },
      "outputs": [],
      "source": [
        "def layoutParquets():\n",
        "    global pWidth, pHeight, firstCut\n",
        "    piecesUsed = 1\n",
        "    parquets = []\n",
        "    startLen = 0\n",
        "    currY = y\n",
        "    remain = pWidth - firstCut\n",
        "    #parquets = [createParquet(0, y, pWidth), createParquet(pWidth, y)]\n",
        "    while currY > 0:\n",
        "        xx = 0\n",
        "        parquets.append(createParquet(xx, currY, remain))\n",
        "        xx += remain\n",
        "        parquets.append(createParquet(xx, currY, pWidth))\n",
        "        piecesUsed += 1\n",
        "        xx += pWidth\n",
        "        w = x\n",
        "        if currY < y - y3:\n",
        "            w = x+x1\n",
        "        if currY < y - y3 - y2:\n",
        "            w = x\n",
        "        lastPiece = w - remain - pWidth\n",
        "        if lastPiece > pWidth:\n",
        "            parquets.append(createParquet(xx, currY, pWidth))\n",
        "            piecesUsed += 1\n",
        "            xx += pWidth\n",
        "            lastPiece -= pWidth\n",
        "        #print(f'curry {currY}, remain: {remain}, lastPiece {lastPiece}')\n",
        "        parquets.append(createParquet(xx, currY, lastPiece))\n",
        "        piecesUsed += 1\n",
        "        remain = pWidth - lastPiece\n",
        "        if remain < minWidth:\n",
        "            remain = 0 # throw away remaining as too small\n",
        "            piecesUsed += 1\n",
        "        currY -= pHeight\n",
        "    print(f'pieces used: {piecesUsed}, packs used={piecesUsed/4.0}')\n",
        "    return parquets"
      ]
    },
    {
      "cell_type": "code",
      "execution_count": 8,
      "metadata": {
        "trusted": true
      },
      "outputs": [
        {
          "name": "stdout",
          "output_type": "stream",
          "text": [
            "pieces used: 39, packs used=9.75\n"
          ]
        }
      ],
      "source": [
        "#parquets = [createParquet(0, y), createParquet(pWidth, y)]\n",
        "parquets = layoutParquets()"
      ]
    },
    {
      "cell_type": "code",
      "execution_count": 9,
      "metadata": {
        "trusted": true
      },
      "outputs": [
        {
          "data": {
            "image/png": "[encoded data removed]",
            "text/plain": [
              "<Figure size 432x288 with 1 Axes>"
            ]
          },
          "metadata": {
            "needs_background": "light"
          },
          "output_type": "display_data"
        }
      ],
      "source": [
        "for p in parquets:\n",
        "    plt.plot(p[0],p[1], 'g--')\n",
        "plt.plot([0, x, x, x+x1, x+x1, x, x, 0, 0], [0, 0, y1, y1, y1+y2, y1+y2, y1+y2+y3,y1+y2+y3, 0], 'r')\n",
        "plt.show()"
      ]
    },
    {
      "cell_type": "code",
      "execution_count": null,
      "metadata": {
        "trusted": true
      },
      "outputs": [],
      "source": []
    }
  ],
  "metadata": {
    "kernelspec": {
      "display_name": "Python 3.10.5 64-bit",
      "language": "python",
      "name": "python3"
    },
    "language_info": {
      "codemirror_mode": {
        "name": "ipython",
        "version": 3
      },
      "file_extension": ".py",
      "mimetype": "text/x-python",
      "name": "python",
      "nbconvert_exporter": "python",
      "pygments_lexer": "ipython3",
      "version": "3.10.5"
    },
    "vscode": {
      "interpreter": {
        "hash": "aee8b7b246df8f9039afb4144a1f6fd8d2ca17a180786b69acc140d282b71a49"
      }
    }
  },
  "nbformat": 4,
  "nbformat_minor": 4
}
