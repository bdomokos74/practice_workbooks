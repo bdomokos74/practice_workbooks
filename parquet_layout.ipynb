{
  "cells": [
    {
      "cell_type": "markdown",
      "metadata": {},
      "source": [
        "### Calculate parquet layout\n",
        "\n",
        "10 pack, 1.8 $m^2$ per pack, 4 piece per pack -> 40 piece"
      ]
    },
    {
      "cell_type": "code",
      "execution_count": 470,
      "metadata": {
        "trusted": true
      },
      "outputs": [],
      "source": [
        "import matplotlib.pyplot as plt\n",
        "import matplotlib.patches as patches\n",
        "from pylab import rcParams\n",
        "rcParams['figure.figsize'] = 15, 8"
      ]
    },
    {
      "cell_type": "code",
      "execution_count": 471,
      "metadata": {
        "trusted": true
      },
      "outputs": [],
      "source": [
        "# Input:\n",
        "firstCut = 60 # cut from first piece\n",
        "minWidth = 24 # minimum size of piece, if smaller, throw out"
      ]
    },
    {
      "cell_type": "code",
      "execution_count": 472,
      "metadata": {
        "trusted": true
      },
      "outputs": [],
      "source": [
        "# Room dimensions\n",
        "x = 389\n",
        "y = 376\n",
        "x1 =66\n",
        "y1 = 168.5\n",
        "y2 = 89.5\n",
        "y3 = 118"
      ]
    },
    {
      "cell_type": "code",
      "execution_count": 473,
      "metadata": {
        "trusted": true
      },
      "outputs": [
        {
          "name": "stdout",
          "output_type": "stream",
          "text": [
            "tileArea*numInPack=18081.0, packArea/tileArea=3.982080637132902\n"
          ]
        }
      ],
      "source": [
        "# Parquet dimensions\n",
        "pHeight = 24.5\n",
        "pWidth = 184.5\n",
        "tileArea = pHeight*pWidth\n",
        "packArea = 1.8*10000\n",
        "numInPack = 4\n",
        "print(f'tileArea*numInPack={tileArea*numInPack}, packArea/tileArea={packArea/tileArea}')"
      ]
    },
    {
      "cell_type": "code",
      "execution_count": 474,
      "metadata": {
        "trusted": true
      },
      "outputs": [
        {
          "name": "stdout",
          "output_type": "stream",
          "text": [
            "roomArea=15.2171\n"
          ]
        }
      ],
      "source": [
        "print(f'roomArea={(x*y+x1*y2)/10000}')"
      ]
    },
    {
      "cell_type": "code",
      "execution_count": 475,
      "metadata": {
        "trusted": true
      },
      "outputs": [],
      "source": [
        "from math import fabs\n",
        "\n",
        "def createParquet(x0, y0, w=pWidth, full=True, invalid=False):\n",
        "    \n",
        "    kwargs = {}\n",
        "    if full:\n",
        "        kwargs['hatch'] = '/'\n",
        "    if invalid:\n",
        "        print(f'invalid parquet {x0}')\n",
        "        kwargs['hatch'] = '|'\n",
        "        kwargs['color'] = 'r'\n",
        "    kwargs['fill'] = False\n",
        "    return [[(x0, y0-pHeight), w, pHeight], kwargs]"
      ]
    },
    {
      "cell_type": "code",
      "execution_count": 476,
      "metadata": {
        "trusted": true
      },
      "outputs": [],
      "source": [
        "def layoutParquets():\n",
        "    global pWidth, pHeight, firstCut\n",
        "    piecesUsed = 1\n",
        "    parquets = []\n",
        "    throwAway = []\n",
        "    startLen = 0\n",
        "    currY = y\n",
        "    remain = pWidth - firstCut\n",
        "    #parquets = [createParquet(0, y, pWidth), createParquet(pWidth, y)]\n",
        "    while currY > 0:\n",
        "        w = x\n",
        "        if currY < y - y3:\n",
        "            w = x+x1\n",
        "        if currY < y - y3 - y2:\n",
        "            w = x\n",
        "        lastPiece = w\n",
        "\n",
        "        xx = 0\n",
        "        \n",
        "        if remain < minWidth and remain > 0:\n",
        "            throwAway.append(remain)\n",
        "            remain = 0 # throw away remaining as too small\n",
        "            parquets.append(createParquet(xx, currY, remain, True))\n",
        "            piecesUsed += 1\n",
        "        else:\n",
        "            if remain > 0:\n",
        "                parquets.append(createParquet(xx, currY, remain, False))\n",
        "                xx += remain\n",
        "                lastPiece -= remain\n",
        "        \n",
        "        while lastPiece > pWidth:\n",
        "            parquets.append(createParquet(xx, currY, pWidth, True))\n",
        "            piecesUsed += 1\n",
        "            xx += pWidth\n",
        "            lastPiece -= pWidth\n",
        "\n",
        "        #print(f'curry {currY}, remain: {remain}, lastPiece {lastPiece}')\n",
        "        if lastPiece < minWidth and lastPiece > 0:\n",
        "            print(f'Warning! Cannot throw away the last piece ({lastPiece})')\n",
        "            #throwAway.append(lastPiece)\n",
        "            #remain = 0 # throw away\n",
        "            parquets.append(createParquet(xx, currY, lastPiece, False, True))\n",
        "            #parquets.append(createParquet(xx, currY, lastPiece, False))\n",
        "        \n",
        "        parquets.append(createParquet(xx, currY, lastPiece, False))\n",
        "        piecesUsed += 1\n",
        "        remain = pWidth - lastPiece\n",
        "        \n",
        "        currY -= pHeight\n",
        "    print(f'pieces used: {piecesUsed}, packs used={piecesUsed/4.0}, throw away:{throwAway}')\n",
        "    return parquets"
      ]
    },
    {
      "cell_type": "code",
      "execution_count": 477,
      "metadata": {
        "trusted": true
      },
      "outputs": [
        {
          "name": "stdout",
          "output_type": "stream",
          "text": [
            "Warning! Cannot throw away the last piece (20.0)\n",
            "invalid parquet 369.0\n",
            "pieces used: 37, packs used=9.25, throw away:[9.5]\n",
            "[[(0, 351.5), 124.5, 24.5], {'fill': False}]\n"
          ]
        }
      ],
      "source": [
        "#parquets = [createParquet(0, y), createParquet(pWidth, y)]\n",
        "parquets = layoutParquets()\n",
        "print(parquets[0])"
      ]
    },
    {
      "cell_type": "code",
      "execution_count": 478,
      "metadata": {
        "trusted": true
      },
      "outputs": [
        {
          "data": {
            "image/png": "[encoded data removed]",
            "text/plain": [
              "<Figure size 1080x576 with 1 Axes>"
            ]
          },
          "metadata": {
            "needs_background": "light"
          },
          "output_type": "display_data"
        }
      ],
      "source": [
        "\n",
        "fig, ax = plt.subplots()\n",
        "for p in parquets:\n",
        "    ax.add_patch(patches.Rectangle(*p[0], **p[1]))\n",
        "    if not p[1]['fill']:\n",
        "        ax.text(p[0][0][0], p[0][0][1], str(p[0][1]))\n",
        "plt.plot([0, x, x, x+x1, x+x1, x, x, 0, 0], [0, 0, y1, y1, y1+y2, y1+y2, y1+y2+y3,y1+y2+y3, 0], 'r')\n",
        "\n",
        "plt.show()"
      ]
    },
    {
      "cell_type": "code",
      "execution_count": null,
      "metadata": {
        "trusted": true
      },
      "outputs": [],
      "source": []
    }
  ],
  "metadata": {
    "kernelspec": {
      "display_name": "Python 3.10.5 64-bit",
      "language": "python",
      "name": "python3"
    },
    "language_info": {
      "codemirror_mode": {
        "name": "ipython",
        "version": 3
      },
      "file_extension": ".py",
      "mimetype": "text/x-python",
      "name": "python",
      "nbconvert_exporter": "python",
      "pygments_lexer": "ipython3",
      "version": "3.10.5"
    },
    "vscode": {
      "interpreter": {
        "hash": "aee8b7b246df8f9039afb4144a1f6fd8d2ca17a180786b69acc140d282b71a49"
      }
    }
  },
  "nbformat": 4,
  "nbformat_minor": 4
}
